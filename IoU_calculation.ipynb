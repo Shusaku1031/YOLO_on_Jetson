{
 "cells": [
  {
   "cell_type": "code",
   "execution_count": 1,
   "metadata": {},
   "outputs": [],
   "source": [
    "import json\n",
    "import os"
   ]
  },
  {
   "cell_type": "code",
   "execution_count": 2,
   "metadata": {},
   "outputs": [],
   "source": [
    "with open(os.path.join('test_results','test_result_part1.json'),'r') as f:\n",
    "    results = json.load(f)"
   ]
  },
  {
   "cell_type": "code",
   "execution_count": 63,
   "metadata": {},
   "outputs": [
    {
     "data": {
      "text/plain": [
       "dict_keys(['/home/tomita/keras-yolo3/use_images/n02231487/n02231487_2251.jpg', '/home/tomita/keras-yolo3/use_images/n02231487/n02231487_143.jpg', '/home/tomita/keras-yolo3/use_images/n02231487/n02231487_1788.jpg', '/home/tomita/keras-yolo3/use_images/n02231487/n02231487_8823.jpg', '/home/tomita/keras-yolo3/use_images/n02231487/n02231487_6784.jpg', '/home/tomita/keras-yolo3/use_images/n02231487/n02231487_9227.jpg', '/home/tomita/keras-yolo3/use_images/n02231487/n02231487_4525.jpg', '/home/tomita/keras-yolo3/use_images/n02231487/n02231487_4030.jpg', '/home/tomita/keras-yolo3/use_images/n02231487/n02231487_1002.jpg', '/home/tomita/keras-yolo3/use_images/n02231487/n02231487_9508.jpg', '/home/tomita/keras-yolo3/use_images/n02231487/n02231487_10829.jpg', '/home/tomita/keras-yolo3/use_images/n02231487/n02231487_5700.jpg', '/home/tomita/keras-yolo3/use_images/n02231487/n02231487_7500.jpg', '/home/tomita/keras-yolo3/use_images/n02231487/n02231487_10506.jpg', '/home/tomita/keras-yolo3/use_images/n02231487/n02231487_8472.jpg', '/home/tomita/keras-yolo3/use_images/n02231487/n02231487_9684.jpg', '/home/tomita/keras-yolo3/use_images/n02231487/n02231487_473.jpg', '/home/tomita/keras-yolo3/use_images/n02231487/n02231487_12685.jpg', '/home/tomita/keras-yolo3/use_images/n02231487/n02231487_6008.jpg', '/home/tomita/keras-yolo3/use_images/n02231487/n02231487_12911.jpg', '/home/tomita/keras-yolo3/use_images/n02231487/n02231487_2106.jpg', '/home/tomita/keras-yolo3/use_images/n02231487/n02231487_2322.jpg', '/home/tomita/keras-yolo3/use_images/n02231487/n02231487_10201.jpg', '/home/tomita/keras-yolo3/use_images/n02231487/n02231487_1858.jpg', '/home/tomita/keras-yolo3/use_images/n02231487/n02231487_5399.jpg', '/home/tomita/keras-yolo3/use_images/n02231487/n02231487_10371.jpg', '/home/tomita/keras-yolo3/use_images/n02231487/n02231487_7896.jpg', '/home/tomita/keras-yolo3/use_images/n02231487/n02231487_8795.jpg', '/home/tomita/keras-yolo3/use_images/n02231487/n02231487_9915.jpg', '/home/tomita/keras-yolo3/use_images/n02231487/n02231487_7272.jpg', '/home/tomita/keras-yolo3/use_images/n02231487/n02231487_4857.jpg', '/home/tomita/keras-yolo3/use_images/n02231487/n02231487_10982.jpg', '/home/tomita/keras-yolo3/use_images/n02231487/n02231487_10352.jpg', '/home/tomita/keras-yolo3/use_images/n02231487/n02231487_2116.jpg', '/home/tomita/keras-yolo3/use_images/n02231487/n02231487_9254.jpg', '/home/tomita/keras-yolo3/use_images/n02231487/n02231487_189.jpg', '/home/tomita/keras-yolo3/use_images/n02231487/n02231487_429.jpg', '/home/tomita/keras-yolo3/use_images/n02231487/n02231487_1100.jpg', '/home/tomita/keras-yolo3/use_images/n02231487/n02231487_3315.jpg', '/home/tomita/keras-yolo3/use_images/n02231487/n02231487_2230.jpg', '/home/tomita/keras-yolo3/use_images/n02231487/n02231487_376.jpg', '/home/tomita/keras-yolo3/use_images/n02231487/n02231487_148.jpg', '/home/tomita/keras-yolo3/use_images/n02231487/n02231487_9348.jpg', '/home/tomita/keras-yolo3/use_images/n02231487/n02231487_8677.jpg', '/home/tomita/keras-yolo3/use_images/n02231487/n02231487_3491.jpg', '/home/tomita/keras-yolo3/use_images/n02231487/n02231487_6571.jpg', '/home/tomita/keras-yolo3/use_images/n02231487/n02231487_10499.jpg', '/home/tomita/keras-yolo3/use_images/n02231487/n02231487_10120.jpg', '/home/tomita/keras-yolo3/use_images/n02231487/n02231487_59.jpg', '/home/tomita/keras-yolo3/use_images/n02231487/n02231487_5800.jpg', '/home/tomita/keras-yolo3/use_images/n02231487/n02231487_11404.jpg'])"
      ]
     },
     "execution_count": 63,
     "metadata": {},
     "output_type": "execute_result"
    }
   ],
   "source": [
    "results.keys()"
   ]
  },
  {
   "cell_type": "code",
   "execution_count": 47,
   "metadata": {},
   "outputs": [],
   "source": [
    "partial = results['/home/tomita/keras-yolo3/use_images/n02231487/n02231487_143.jpg']"
   ]
  },
  {
   "cell_type": "code",
   "execution_count": 48,
   "metadata": {},
   "outputs": [],
   "source": [
    "partial_true = partial[\"ground truth\"]\n",
    "partial_predict = partial[\"prediction\"]"
   ]
  },
  {
   "cell_type": "code",
   "execution_count": 21,
   "metadata": {},
   "outputs": [],
   "source": [
    "def bb_intersection_over_union(boxA, boxB):\n",
    "    # determine the (x, y)-coordinates of the intersection rectangle\n",
    "    xA = max(boxA[0], boxB[0])\n",
    "    yA = max(boxA[1], boxB[1])\n",
    "    xB = min(boxA[2], boxB[2])\n",
    "    yB = min(boxA[3], boxB[3])\n",
    "\n",
    "    # compute the area of intersection rectangle\n",
    "    interArea = abs(max((xB - xA, 0)) * max((yB - yA), 0))\n",
    "    if interArea == 0:\n",
    "        return 0\n",
    "    # compute the area of both the prediction and ground-truth\n",
    "    # rectangles\n",
    "    boxAArea = abs((boxA[2] - boxA[0]) * (boxA[3] - boxA[1]))\n",
    "    boxBArea = abs((boxB[2] - boxB[0]) * (boxB[3] - boxB[1]))\n",
    "\n",
    "    # compute the intersection over union by taking the intersection\n",
    "    # area and dividing it by the sum of prediction + ground-truth\n",
    "    # areas - the interesection area\n",
    "    iou = interArea / float(boxAArea + boxBArea - interArea)\n",
    "\n",
    "    # return the intersection over union value\n",
    "    return iou"
   ]
  },
  {
   "cell_type": "code",
   "execution_count": null,
   "metadata": {},
   "outputs": [],
   "source": [
    "true_bbox = []\n",
    "for t in partial_true:\n",
    "    true_bbox.append(\n",
    "        [\n",
    "            t[\"bbox\"][\"left\"],\n",
    "            t[\"bbox\"][\"top\"],\n",
    "            t[\"bbox\"][\"right\"],\n",
    "            t[\"bbox\"][\"bottom\"]\n",
    "        ]\n",
    "    )\n",
    "\n",
    "predict_bbox = []\n",
    "predict_score = []\n",
    "for t in partial_predict:\n",
    "    predict_bbox.append(\n",
    "        [\n",
    "            t[\"bbox\"][\"left\"],\n",
    "            t[\"bbox\"][\"top\"],\n",
    "            t[\"bbox\"][\"right\"],\n",
    "            t[\"bbox\"][\"bottom\"],\n",
    "        ]\n",
    "    )\n",
    "    predict_score.append(t[\"score\"])"
   ]
  },
  {
   "cell_type": "code",
   "execution_count": 50,
   "metadata": {
    "scrolled": true
   },
   "outputs": [
    {
     "data": {
      "text/plain": [
       "[[184, 168, 248, 242]]"
      ]
     },
     "execution_count": 50,
     "metadata": {},
     "output_type": "execute_result"
    }
   ],
   "source": [
    "true_bbox"
   ]
  },
  {
   "cell_type": "code",
   "execution_count": 51,
   "metadata": {},
   "outputs": [
    {
     "data": {
      "text/plain": [
       "[[68, 26, 287, 309], [151, 12, 386, 331]]"
      ]
     },
     "execution_count": 51,
     "metadata": {},
     "output_type": "execute_result"
    }
   ],
   "source": [
    "predict_bbox"
   ]
  },
  {
   "cell_type": "code",
   "execution_count": 62,
   "metadata": {},
   "outputs": [
    {
     "name": "stdout",
     "output_type": "stream",
     "text": [
      "0.18124449253082275 0.06317614886947243\n"
     ]
    }
   ],
   "source": [
    "index = 1\n",
    "print(predict_score[index],bb_intersection_over_union(true_bbox[0],predict_bbox[index]))"
   ]
  },
  {
   "cell_type": "code",
   "execution_count": 65,
   "metadata": {},
   "outputs": [
    {
     "data": {
      "text/plain": [
       "1"
      ]
     },
     "execution_count": 65,
     "metadata": {},
     "output_type": "execute_result"
    }
   ],
   "source": [
    "len(partial_true)"
   ]
  },
  {
   "cell_type": "code",
   "execution_count": 69,
   "metadata": {},
   "outputs": [
    {
     "name": "stdout",
     "output_type": "stream",
     "text": [
      "0 /home/tomita/keras-yolo3/use_images/n02231487/n02231487_2251.jpg\n",
      "0.5309793374687315 0.06128309667110443\n",
      "0.4068750748592646 0.08401032537221909\n",
      "0.43342516069788795 0.11156392842531204\n",
      "0.39215022838775165 0.12545308470726013\n",
      "0.4387018803540326 0.2603117823600769\n",
      "1 /home/tomita/keras-yolo3/use_images/n02231487/n02231487_143.jpg\n",
      "0.0764154444390661 0.06440732628107071\n",
      "0.06317614886947243 0.18124449253082275\n",
      "2 /home/tomita/keras-yolo3/use_images/n02231487/n02231487_1788.jpg\n",
      "0 0.06301642209291458\n",
      "0.007542636849971366 0.06799324601888657\n",
      "0.06854418716449003 0.39317426085472107\n",
      "3 /home/tomita/keras-yolo3/use_images/n02231487/n02231487_8823.jpg\n",
      "0.3196480938416422 0.05318747088313103\n",
      "0.4274111039191531 0.09886697679758072\n",
      "0.5975601679536935 0.13118374347686768\n",
      "0.6736931643542842 0.16016119718551636\n",
      "4 /home/tomita/keras-yolo3/use_images/n02231487/n02231487_6784.jpg\n",
      "0.3760795658508774 0.15384702384471893\n",
      "0.2833586583375542 0.32236921787261963\n",
      "5 /home/tomita/keras-yolo3/use_images/n02231487/n02231487_9227.jpg\n",
      "0.3980277644806127 0.0542566291987896\n",
      "0.42327501809049506 0.06940294802188873\n",
      "0.5334343767820162 0.149146169424057\n",
      "6 /home/tomita/keras-yolo3/use_images/n02231487/n02231487_4525.jpg\n",
      "0.31784084757559355 0.056913405656814575\n",
      "0.13485827441323195 0.2425607591867447\n",
      "7 /home/tomita/keras-yolo3/use_images/n02231487/n02231487_4030.jpg\n",
      "0.25014302688905515 0.07710989564657211\n",
      "0.44564397316835624 0.10371698439121246\n",
      "8 /home/tomita/keras-yolo3/use_images/n02231487/n02231487_1002.jpg\n",
      "0.14822476177557734 0.07467744499444962\n",
      "0.28537848394337323 0.08767614513635635\n",
      "0.27043495567769493 0.22035571932792664\n",
      "0.5749511507668897 0.28436559438705444\n",
      "9 /home/tomita/keras-yolo3/use_images/n02231487/n02231487_9508.jpg\n",
      "0.07829351928123983 0.050897084176540375\n",
      "0.24049408956680052 0.08152258396148682\n",
      "0.39937629937629937 0.08187367022037506\n",
      "0.3538253587544209 0.21304963529109955\n",
      "10 /home/tomita/keras-yolo3/use_images/n02231487/n02231487_10829.jpg\n",
      "0.3623215671518943 0.05938056856393814\n",
      "0.5664298737658042 0.1015733927488327\n",
      "0.2795353026598776 0.23442086577415466\n",
      "11 /home/tomita/keras-yolo3/use_images/n02231487/n02231487_5700.jpg\n",
      "0.38581850081953967 0.058353085070848465\n",
      "0.3732789580520423 0.13558697700500488\n",
      "12 /home/tomita/keras-yolo3/use_images/n02231487/n02231487_7500.jpg\n",
      "0.21539021284336912 0.0991872027516365\n",
      "0.2248008653751598 0.13517449796199799\n",
      "0.37870728656433755 0.21969205141067505\n",
      "13 /home/tomita/keras-yolo3/use_images/n02231487/n02231487_10506.jpg\n",
      "0.39007687401389773 0.07041060924530029\n",
      "0.12411514865502596 0.13125520944595337\n",
      "0.552608568930341 0.22377371788024902\n",
      "0.3241278527918403 0.4522837698459625\n",
      "14 /home/tomita/keras-yolo3/use_images/n02231487/n02231487_8472.jpg\n",
      "0.29884169884169887 0.10954783111810684\n",
      "0.33542759428977653 0.2069956362247467\n",
      "15 /home/tomita/keras-yolo3/use_images/n02231487/n02231487_9684.jpg\n",
      "0.33938180453009636 0.1186756044626236\n",
      "0.496551724137931 0.30766886472702026\n",
      "16 /home/tomita/keras-yolo3/use_images/n02231487/n02231487_473.jpg\n",
      "0.3055015975960738 0.07759654521942139\n",
      "0.3753114716179702 0.10143162310123444\n",
      "0.565877367896311 0.33129119873046875\n",
      "17 /home/tomita/keras-yolo3/use_images/n02231487/n02231487_12685.jpg\n",
      "0.3907169858090104 0.10753580182790756\n",
      "0.10352904434728295 0.1089310422539711\n",
      "0.20755282073622305 0.43363165855407715\n",
      "18 /home/tomita/keras-yolo3/use_images/n02231487/n02231487_6008.jpg\n",
      "0.2504611202795845 0.05694102868437767\n",
      "0.24231976412402512 0.13929802179336548\n",
      "0.13131221445644609 0.18778543174266815\n",
      "19 /home/tomita/keras-yolo3/use_images/n02231487/n02231487_12911.jpg\n",
      "0.3753155033491894 0.052199963480234146\n",
      "0.12193596798399199 0.054276805371046066\n",
      "0.22638528382801038 0.18287919461727142\n",
      "0.3608202269560024 0.2480434775352478\n",
      "20 /home/tomita/keras-yolo3/use_images/n02231487/n02231487_2106.jpg\n",
      "0.41786260940096026 0.05229218676686287\n",
      "0.617360183948969 0.14316624402999878\n",
      "0.26510311053296093 0.33805346488952637\n",
      "21 /home/tomita/keras-yolo3/use_images/n02231487/n02231487_2322.jpg\n",
      "0.4530219998411564 0.07216490060091019\n",
      "0.36298514636423296 0.07734251767396927\n",
      "0.4950070890155958 0.09499390423297882\n",
      "22 /home/tomita/keras-yolo3/use_images/n02231487/n02231487_10201.jpg\n",
      "0.39418476260581525 0.051938802003860474\n",
      "0.1596505162827641 0.09310394525527954\n",
      "0.31330736108263274 0.1341477334499359\n",
      "23 /home/tomita/keras-yolo3/use_images/n02231487/n02231487_1858.jpg\n",
      "0.41507109766221245 0.13393019139766693\n",
      "0.5650788285569425 0.21627606451511383\n",
      "24 /home/tomita/keras-yolo3/use_images/n02231487/n02231487_5399.jpg\n",
      "0.46436083022087826 0.09508636593818665\n",
      "0.43212773824525924 0.10589506477117538\n",
      "0.19405373536595638 0.11552179604768753\n",
      "0.603294130533003 0.12382116913795471\n",
      "0.23847844230224421 0.17439749836921692\n",
      "25 /home/tomita/keras-yolo3/use_images/n02231487/n02231487_10371.jpg\n",
      "0.25736734297205566 0.0684758722782135\n",
      "0.623928740130913 0.17454028129577637\n",
      "0.36606949262792715 0.23315148055553436\n",
      "26 /home/tomita/keras-yolo3/use_images/n02231487/n02231487_7896.jpg\n",
      "0.5874521288578509 0.10196631401777267\n",
      "27 /home/tomita/keras-yolo3/use_images/n02231487/n02231487_8795.jpg\n",
      "0.15019032359249557 0.09038272500038147\n",
      "0.5333891563742935 0.15499158203601837\n",
      "0.23785623951067028 0.4151293933391571\n",
      "28 /home/tomita/keras-yolo3/use_images/n02231487/n02231487_9915.jpg\n",
      "0.20767208337292914 0.1104859784245491\n",
      "0.41578431040898484 0.12207438796758652\n",
      "0.2848450809697651 0.18920497596263885\n",
      "29 /home/tomita/keras-yolo3/use_images/n02231487/n02231487_7272.jpg\n",
      "0.38564542046063205 0.0798715204000473\n",
      "0.17167714370538653 0.09146713465452194\n",
      "0.24875226972802952 0.1559687852859497\n",
      "30 /home/tomita/keras-yolo3/use_images/n02231487/n02231487_4857.jpg\n",
      "0.14908231439371314 0.06133868917822838\n",
      "0.40002604820779025 0.06772443652153015\n",
      "0.3376759664564681 0.14054995775222778\n",
      "0.4255165971013996 0.2631484270095825\n",
      "31 /home/tomita/keras-yolo3/use_images/n02231487/n02231487_10982.jpg\n",
      "0.4650115207373272 0.0759415253996849\n",
      "0.2008867424895752 0.12897297739982605\n",
      "32 /home/tomita/keras-yolo3/use_images/n02231487/n02231487_10352.jpg\n",
      "0.14105263157894737 0.2581213712692261\n",
      "33 /home/tomita/keras-yolo3/use_images/n02231487/n02231487_2116.jpg\n",
      "0.16367217652852087 0.05373303219676018\n",
      "0.6465200894017361 0.13823509216308594\n",
      "0.43320610687022904 0.2942168116569519\n",
      "34 /home/tomita/keras-yolo3/use_images/n02231487/n02231487_9254.jpg\n",
      "0.12651458392538817 0.056102871894836426\n",
      "0.08644646924829157 0.06187615171074867\n",
      "0.08382937573869131 0.10091904550790787\n",
      "35 /home/tomita/keras-yolo3/use_images/n02231487/n02231487_189.jpg\n",
      "0.4033805582830692 0.053011976182460785\n",
      "0.42328628832716403 0.063041090965271\n",
      "0.38416273963139325 0.10402480512857437\n",
      "0.2565595033749339 0.053011976182460785\n",
      "0.12064890068969983 0.063041090965271\n",
      "0.03836089199029126 0.10402480512857437\n",
      "36 /home/tomita/keras-yolo3/use_images/n02231487/n02231487_429.jpg\n",
      "0.3076412933673666 0.07835368812084198\n",
      "0.6125439396419358 0.08078110218048096\n",
      "0.3178558341621735 0.16619789600372314\n",
      "37 /home/tomita/keras-yolo3/use_images/n02231487/n02231487_1100.jpg\n",
      "0.19708236631459292 0.06455639004707336\n",
      "0.15925824925006818 0.1025947704911232\n",
      "0.21395192791583792 0.13615652918815613\n",
      "38 /home/tomita/keras-yolo3/use_images/n02231487/n02231487_3315.jpg\n",
      "0.2487470146994517 0.05925466865301132\n",
      "0.5080785810655172 0.07058034092187881\n",
      "0.3279109126591167 0.188742533326149\n",
      "39 /home/tomita/keras-yolo3/use_images/n02231487/n02231487_2230.jpg\n",
      "0.4054658496220423 0.0872633084654808\n",
      "0.2118349080059672 0.09076882898807526\n",
      "0.1602730758440101 0.1677282750606537\n",
      "0.4062129220148851 0.2387474924325943\n",
      "40 /home/tomita/keras-yolo3/use_images/n02231487/n02231487_376.jpg\n",
      "0.28107445849418616 0.11384793370962143\n",
      "41 /home/tomita/keras-yolo3/use_images/n02231487/n02231487_148.jpg\n",
      "0.4684067380242148 0.20702381432056427\n",
      "0.26461275387101213 0.3832758367061615\n",
      "42 /home/tomita/keras-yolo3/use_images/n02231487/n02231487_9348.jpg\n",
      "0.09444247934916045 0.08916854113340378\n",
      "0.15705898919000888 0.11542677134275436\n",
      "0.2572743876504291 0.154152512550354\n",
      "43 /home/tomita/keras-yolo3/use_images/n02231487/n02231487_8677.jpg\n",
      "0.4118712353903227 0.05915133282542229\n",
      "0.1966048398460386 0.18325048685073853\n",
      "44 /home/tomita/keras-yolo3/use_images/n02231487/n02231487_3491.jpg\n",
      "0.22582428580960642 0.17158988118171692\n",
      "45 /home/tomita/keras-yolo3/use_images/n02231487/n02231487_6571.jpg\n",
      "0.12159563248340467 0.050728023052215576\n",
      "0.3536902054193456 0.1272532343864441\n",
      "0.3400376211836203 0.16190670430660248\n",
      "46 /home/tomita/keras-yolo3/use_images/n02231487/n02231487_10499.jpg\n",
      "0.17332516617890606 0.05767574533820152\n",
      "0.252642228297135 0.0644325390458107\n",
      "0.38477619941034574 0.06936927884817123\n",
      "0.1588179399467883 0.3314821124076843\n",
      "47 /home/tomita/keras-yolo3/use_images/n02231487/n02231487_10120.jpg\n",
      "0.22664269325210998 0.08313077688217163\n",
      "0.2131039046988749 0.2373001128435135\n",
      "0.20893336587747133 0.25908535718917847\n",
      "48 /home/tomita/keras-yolo3/use_images/n02231487/n02231487_59.jpg\n",
      "0.2575494134340588 0.055123429745435715\n",
      "0.46193167917798694 0.05721381679177284\n",
      "0.5007085020242915 0.07237442582845688\n",
      "0.8008273787138022 0.1813601553440094\n",
      "0.6364628402955929 0.36936357617378235\n",
      "49 /home/tomita/keras-yolo3/use_images/n02231487/n02231487_5800.jpg\n",
      "0.15831562299214155 0.09260670840740204\n",
      "0.32920179903173136 0.1197677031159401\n",
      "0.1938236068031225 0.40608295798301697\n",
      "50 /home/tomita/keras-yolo3/use_images/n02231487/n02231487_11404.jpg\n",
      "0.496029176181874 0.08577033877372742\n",
      "0.2670751531824434 0.1454545110464096\n",
      "0.43393893419305896 0.3397279381752014\n"
     ]
    }
   ],
   "source": [
    "iou_and_score = {}\n",
    "for i,target in enumerate(results.keys()):\n",
    "    print(i,target)\n",
    "    iou_and_score[target] = {}\n",
    "    partial = results[target]\n",
    "    partial_true = partial[\"ground truth\"]\n",
    "    partial_predict = partial[\"prediction\"]\n",
    "    true_bbox = []\n",
    "    for t in partial_true:\n",
    "        true_bbox.append(\n",
    "            [\n",
    "                t[\"bbox\"][\"left\"],\n",
    "                t[\"bbox\"][\"top\"],\n",
    "                t[\"bbox\"][\"right\"],\n",
    "                t[\"bbox\"][\"bottom\"]\n",
    "            ]\n",
    "        )\n",
    "\n",
    "    predict_bbox = []\n",
    "    predict_score = []\n",
    "    for t in partial_predict:\n",
    "        predict_bbox.append(\n",
    "            [\n",
    "                t[\"bbox\"][\"left\"],\n",
    "                t[\"bbox\"][\"top\"],\n",
    "                t[\"bbox\"][\"right\"],\n",
    "                t[\"bbox\"][\"bottom\"],\n",
    "            ]\n",
    "        )\n",
    "        predict_score.append(t[\"score\"])\n",
    "    \n",
    "    for tb in true_bbox:\n",
    "        for j,pb in enumerate(predict_bbox):\n",
    "            print(bb_intersection_over_union(tb,pb),predict_score[j])"
   ]
  },
  {
   "cell_type": "code",
   "execution_count": null,
   "metadata": {},
   "outputs": [],
   "source": []
  }
 ],
 "metadata": {
  "kernelspec": {
   "display_name": "Python 3",
   "language": "python",
   "name": "python3"
  },
  "language_info": {
   "codemirror_mode": {
    "name": "ipython",
    "version": 3
   },
   "file_extension": ".py",
   "mimetype": "text/x-python",
   "name": "python",
   "nbconvert_exporter": "python",
   "pygments_lexer": "ipython3",
   "version": "3.6.9"
  }
 },
 "nbformat": 4,
 "nbformat_minor": 2
}
