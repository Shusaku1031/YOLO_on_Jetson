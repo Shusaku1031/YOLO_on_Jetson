{
 "cells": [
  {
   "cell_type": "code",
   "execution_count": 1,
   "metadata": {},
   "outputs": [],
   "source": [
    "import json\n",
    "import os\n",
    "import numpy as np\n",
    "from sklearn.metrics import label_ranking_average_precision_score,average_precision_score,precision_recall_curve"
   ]
  },
  {
   "cell_type": "code",
   "execution_count": 22,
   "metadata": {},
   "outputs": [],
   "source": [
    "with open(os.path.join('test_results','test_result_part1.json'),'r') as f:\n",
    "    results = json.load(f)"
   ]
  },
  {
   "cell_type": "code",
   "execution_count": 48,
   "metadata": {
    "collapsed": true
   },
   "outputs": [
    {
     "data": {
      "text/plain": [
       "dict_keys(['/home/tomita/keras-yolo3/use_images/n02231487/n02231487_2251.jpg', '/home/tomita/keras-yolo3/use_images/n02231487/n02231487_143.jpg', '/home/tomita/keras-yolo3/use_images/n02231487/n02231487_1788.jpg', '/home/tomita/keras-yolo3/use_images/n02231487/n02231487_8823.jpg', '/home/tomita/keras-yolo3/use_images/n02231487/n02231487_6784.jpg', '/home/tomita/keras-yolo3/use_images/n02231487/n02231487_9227.jpg', '/home/tomita/keras-yolo3/use_images/n02231487/n02231487_4525.jpg', '/home/tomita/keras-yolo3/use_images/n02231487/n02231487_4030.jpg', '/home/tomita/keras-yolo3/use_images/n02231487/n02231487_1002.jpg', '/home/tomita/keras-yolo3/use_images/n02231487/n02231487_9508.jpg', '/home/tomita/keras-yolo3/use_images/n02231487/n02231487_10829.jpg', '/home/tomita/keras-yolo3/use_images/n02231487/n02231487_5700.jpg', '/home/tomita/keras-yolo3/use_images/n02231487/n02231487_7500.jpg', '/home/tomita/keras-yolo3/use_images/n02231487/n02231487_10506.jpg', '/home/tomita/keras-yolo3/use_images/n02231487/n02231487_8472.jpg', '/home/tomita/keras-yolo3/use_images/n02231487/n02231487_9684.jpg', '/home/tomita/keras-yolo3/use_images/n02231487/n02231487_473.jpg', '/home/tomita/keras-yolo3/use_images/n02231487/n02231487_12685.jpg', '/home/tomita/keras-yolo3/use_images/n02231487/n02231487_6008.jpg', '/home/tomita/keras-yolo3/use_images/n02231487/n02231487_12911.jpg', '/home/tomita/keras-yolo3/use_images/n02231487/n02231487_2106.jpg', '/home/tomita/keras-yolo3/use_images/n02231487/n02231487_2322.jpg', '/home/tomita/keras-yolo3/use_images/n02231487/n02231487_10201.jpg', '/home/tomita/keras-yolo3/use_images/n02231487/n02231487_1858.jpg', '/home/tomita/keras-yolo3/use_images/n02231487/n02231487_5399.jpg', '/home/tomita/keras-yolo3/use_images/n02231487/n02231487_10371.jpg', '/home/tomita/keras-yolo3/use_images/n02231487/n02231487_7896.jpg', '/home/tomita/keras-yolo3/use_images/n02231487/n02231487_8795.jpg', '/home/tomita/keras-yolo3/use_images/n02231487/n02231487_9915.jpg', '/home/tomita/keras-yolo3/use_images/n02231487/n02231487_7272.jpg', '/home/tomita/keras-yolo3/use_images/n02231487/n02231487_4857.jpg', '/home/tomita/keras-yolo3/use_images/n02231487/n02231487_10982.jpg', '/home/tomita/keras-yolo3/use_images/n02231487/n02231487_10352.jpg', '/home/tomita/keras-yolo3/use_images/n02231487/n02231487_2116.jpg', '/home/tomita/keras-yolo3/use_images/n02231487/n02231487_9254.jpg', '/home/tomita/keras-yolo3/use_images/n02231487/n02231487_189.jpg', '/home/tomita/keras-yolo3/use_images/n02231487/n02231487_429.jpg', '/home/tomita/keras-yolo3/use_images/n02231487/n02231487_1100.jpg', '/home/tomita/keras-yolo3/use_images/n02231487/n02231487_3315.jpg', '/home/tomita/keras-yolo3/use_images/n02231487/n02231487_2230.jpg', '/home/tomita/keras-yolo3/use_images/n02231487/n02231487_376.jpg', '/home/tomita/keras-yolo3/use_images/n02231487/n02231487_148.jpg', '/home/tomita/keras-yolo3/use_images/n02231487/n02231487_9348.jpg', '/home/tomita/keras-yolo3/use_images/n02231487/n02231487_8677.jpg', '/home/tomita/keras-yolo3/use_images/n02231487/n02231487_3491.jpg', '/home/tomita/keras-yolo3/use_images/n02231487/n02231487_6571.jpg', '/home/tomita/keras-yolo3/use_images/n02231487/n02231487_10499.jpg', '/home/tomita/keras-yolo3/use_images/n02231487/n02231487_10120.jpg', '/home/tomita/keras-yolo3/use_images/n02231487/n02231487_59.jpg', '/home/tomita/keras-yolo3/use_images/n02231487/n02231487_5800.jpg', '/home/tomita/keras-yolo3/use_images/n02231487/n02231487_11404.jpg'])"
      ]
     },
     "execution_count": 48,
     "metadata": {},
     "output_type": "execute_result"
    }
   ],
   "source": [
    "results.keys()"
   ]
  },
  {
   "cell_type": "code",
   "execution_count": 4,
   "metadata": {},
   "outputs": [],
   "source": [
    "partial = results['/home/tomita/keras-yolo3/use_images/n02231487/n02231487_143.jpg']"
   ]
  },
  {
   "cell_type": "code",
   "execution_count": 5,
   "metadata": {},
   "outputs": [],
   "source": [
    "partial_true = partial[\"ground truth\"]\n",
    "partial_predict = partial[\"prediction\"]"
   ]
  },
  {
   "cell_type": "code",
   "execution_count": 3,
   "metadata": {},
   "outputs": [],
   "source": [
    "def bb_intersection_over_union(boxA, boxB):\n",
    "    # determine the (x, y)-coordinates of the intersection rectangle\n",
    "    xA = max(boxA[0], boxB[0])\n",
    "    yA = max(boxA[1], boxB[1])\n",
    "    xB = min(boxA[2], boxB[2])\n",
    "    yB = min(boxA[3], boxB[3])\n",
    "\n",
    "    # compute the area of intersection rectangle\n",
    "    interArea = abs(max((xB - xA, 0)) * max((yB - yA), 0))\n",
    "    if interArea == 0:\n",
    "        return 0\n",
    "    # compute the area of both the prediction and ground-truth\n",
    "    # rectangles\n",
    "    boxAArea = abs((boxA[2] - boxA[0]) * (boxA[3] - boxA[1]))\n",
    "    boxBArea = abs((boxB[2] - boxB[0]) * (boxB[3] - boxB[1]))\n",
    "\n",
    "    # compute the intersection over union by taking the intersection\n",
    "    # area and dividing it by the sum of prediction + ground-truth\n",
    "    # areas - the interesection area\n",
    "    iou = interArea / float(boxAArea + boxBArea - interArea)\n",
    "\n",
    "    # return the intersection over union value\n",
    "    return iou\n",
    "\n",
    "def mean_average_precision(y_true, y_pred):\n",
    "    average_precisions = []\n",
    "    # クラス単位でAPを計算\n",
    "    for i in range(len(y_true)):\n",
    "        sort_idx = np.argsort(y_pred[i])[::-1]\n",
    "        y_true_sorted = y_true[i][sort_idx]\n",
    "\n",
    "        cumsum = np.cumsum(y_true_sorted)\n",
    "        recall = cumsum / np.max(cumsum)\n",
    "        precision = cumsum / np.arange(1, 1 + y_true[i].shape[0])\n",
    "\n",
    "        # 代表点\n",
    "        points_x = np.arange(11) / 10\n",
    "        points_y = np.zeros(points_x.shape[0])\n",
    "        for i in range(points_x.shape[0]-1, -1, -1):\n",
    "            points_y[i] = np.max(precision[recall >= points_x[i]])\n",
    "\n",
    "        average_precision = np.mean(points_y)\n",
    "        average_precisions.append(average_precision)\n",
    "    return average_precisions"
   ]
  },
  {
   "cell_type": "code",
   "execution_count": 7,
   "metadata": {},
   "outputs": [],
   "source": [
    "true_bbox = []\n",
    "for t in partial_true:\n",
    "    true_bbox.append(\n",
    "        [\n",
    "            t[\"bbox\"][\"left\"],\n",
    "            t[\"bbox\"][\"top\"],\n",
    "            t[\"bbox\"][\"right\"],\n",
    "            t[\"bbox\"][\"bottom\"]\n",
    "        ]\n",
    "    )\n",
    "\n",
    "predict_bbox = []\n",
    "predict_score = []\n",
    "for t in partial_predict:\n",
    "    predict_bbox.append(\n",
    "        [\n",
    "            t[\"bbox\"][\"left\"],\n",
    "            t[\"bbox\"][\"top\"],\n",
    "            t[\"bbox\"][\"right\"],\n",
    "            t[\"bbox\"][\"bottom\"],\n",
    "        ]\n",
    "    )\n",
    "    predict_score.append(t[\"score\"])"
   ]
  },
  {
   "cell_type": "code",
   "execution_count": 8,
   "metadata": {
    "scrolled": true
   },
   "outputs": [
    {
     "data": {
      "text/plain": [
       "[[184, 168, 248, 242]]"
      ]
     },
     "execution_count": 8,
     "metadata": {},
     "output_type": "execute_result"
    }
   ],
   "source": [
    "true_bbox"
   ]
  },
  {
   "cell_type": "code",
   "execution_count": 9,
   "metadata": {},
   "outputs": [
    {
     "data": {
      "text/plain": [
       "[[275, 31, 399, 199], [158, 64, 388, 264]]"
      ]
     },
     "execution_count": 9,
     "metadata": {},
     "output_type": "execute_result"
    }
   ],
   "source": [
    "predict_bbox"
   ]
  },
  {
   "cell_type": "code",
   "execution_count": 23,
   "metadata": {
    "scrolled": true
   },
   "outputs": [
    {
     "name": "stdout",
     "output_type": "stream",
     "text": [
      "0 /home/tomita/keras-yolo3/use_images/n02231487/n02231487_2251.jpg\n",
      "iou: 0.6654664167043765 score: 0.07124502956867218\n",
      "iou: 0.5019975981727275 score: 0.28216853737831116\n",
      "precision: [1. 1. 1.]\n",
      "recall: [1.  0.5 0. ]\n",
      "threshold: [0.07124503 0.28216854]\n",
      "1 /home/tomita/keras-yolo3/use_images/n02231487/n02231487_143.jpg\n",
      "iou: 0 score: 0.053225111216306686\n",
      "iou: 0.10295652173913043 score: 0.19599822163581848\n",
      "precision: [0. 1.]\n",
      "recall: [0. 0.]\n",
      "threshold: [0.19599822]\n",
      "2 /home/tomita/keras-yolo3/use_images/n02231487/n02231487_1788.jpg\n",
      "iou: 0 score: 0.14917005598545074\n",
      "iou: 0.04659904163295787 score: 0.32592394948005676\n",
      "iou: 0.13342862469703562 score: 0.32779866456985474\n",
      "precision: [0. 1.]\n",
      "recall: [0. 0.]\n",
      "threshold: [0.32779866]\n",
      "3 /home/tomita/keras-yolo3/use_images/n02231487/n02231487_8823.jpg\n",
      "iou: 0.7504558106941949 score: 0.05859237536787987\n",
      "iou: 0.35250977835723596 score: 0.12749522924423218\n",
      "iou: 0.4158210692136298 score: 0.7610382437705994\n",
      "precision: [1. 1. 1. 1.]\n",
      "recall: [1.         0.66666667 0.33333333 0.        ]\n",
      "threshold: [0.05859238 0.12749523 0.76103824]\n",
      "4 /home/tomita/keras-yolo3/use_images/n02231487/n02231487_6784.jpg\n",
      "iou: 0.1760098565519669 score: 0.06176471337676048\n",
      "iou: 0.3468295945042252 score: 0.09265246242284775\n",
      "iou: 0.41789552611847036 score: 0.46937617659568787\n",
      "iou: 0.42955315161279717 score: 0.5014699101448059\n",
      "precision: [1. 1. 1. 1.]\n",
      "recall: [1.         0.66666667 0.33333333 0.        ]\n",
      "threshold: [0.09265246 0.46937618 0.50146991]\n",
      "5 /home/tomita/keras-yolo3/use_images/n02231487/n02231487_9227.jpg\n",
      "iou: 0.29467799897324737 score: 0.054560694843530655\n",
      "iou: 0.2816323339717781 score: 0.05575227737426758\n",
      "iou: 0.5044055676158856 score: 0.12837298214435577\n",
      "precision: [1. 1. 1. 1.]\n",
      "recall: [1.         0.66666667 0.33333333 0.        ]\n",
      "threshold: [0.05456069 0.05575228 0.12837298]\n",
      "6 /home/tomita/keras-yolo3/use_images/n02231487/n02231487_4525.jpg\n",
      "iou: 0.03339517625231911 score: 0.0700521394610405\n",
      "iou: 0.20545204942145517 score: 0.3353832960128784\n",
      "precision: [0. 1.]\n",
      "recall: [0. 0.]\n",
      "threshold: [0.3353833]\n",
      "7 /home/tomita/keras-yolo3/use_images/n02231487/n02231487_4030.jpg\n",
      "iou: 0.26992198210324286 score: 0.057167306542396545\n",
      "iou: 0.05765748127844941 score: 0.0717376247048378\n",
      "iou: 0.4330055017284191 score: 0.10086751729249954\n",
      "iou: 0.4437780505967356 score: 0.1757664829492569\n",
      "precision: [0.75       0.66666667 1.         1.         1.        ]\n",
      "recall: [1.         0.66666667 0.66666667 0.33333333 0.        ]\n",
      "threshold: [0.05716731 0.07173762 0.10086752 0.17576648]\n",
      "8 /home/tomita/keras-yolo3/use_images/n02231487/n02231487_1002.jpg\n",
      "iou: 0.3365418835817684 score: 0.05870724469423294\n",
      "iou: 0.3101568243077677 score: 0.08737879246473312\n",
      "iou: 0.4715262318634649 score: 0.09133788198232651\n",
      "iou: 0.5098273068835959 score: 0.5152864456176758\n",
      "precision: [1. 1. 1. 1. 1.]\n",
      "recall: [1.   0.75 0.5  0.25 0.  ]\n",
      "threshold: [0.05870724 0.08737879 0.09133788 0.51528645]\n",
      "9 /home/tomita/keras-yolo3/use_images/n02231487/n02231487_9508.jpg\n",
      "iou: 0.12895927601809956 score: 0.051764264702796936\n",
      "iou: 0.38596491228070173 score: 0.0617668591439724\n",
      "iou: 0.6211155896502405 score: 0.23060433566570282\n",
      "precision: [1. 1. 1.]\n",
      "recall: [1.  0.5 0. ]\n",
      "threshold: [0.06176686 0.23060434]\n",
      "10 /home/tomita/keras-yolo3/use_images/n02231487/n02231487_10829.jpg\n",
      "iou: 0.32479120565350844 score: 0.06079574674367905\n",
      "iou: 0.2830025222063823 score: 0.08857377618551254\n",
      "iou: 0.7643132462160384 score: 0.19627699255943298\n",
      "iou: 0.26470467638436146 score: 0.35395610332489014\n",
      "precision: [1. 1. 1. 1. 1.]\n",
      "recall: [1.   0.75 0.5  0.25 0.  ]\n",
      "threshold: [0.06079575 0.08857378 0.19627699 0.3539561 ]\n",
      "11 /home/tomita/keras-yolo3/use_images/n02231487/n02231487_5700.jpg\n",
      "iou: 0.3185395363777504 score: 0.08743017166852951\n",
      "iou: 0.24708171206225682 score: 0.09066849201917648\n",
      "iou: 0.3527345594416869 score: 0.23122373223304749\n",
      "iou: 0.43669653291780286 score: 0.3701871335506439\n",
      "precision: [0.75       0.66666667 1.         1.         1.        ]\n",
      "recall: [1.         0.66666667 0.66666667 0.33333333 0.        ]\n",
      "threshold: [0.08743017 0.09066849 0.23122373 0.37018713]\n",
      "12 /home/tomita/keras-yolo3/use_images/n02231487/n02231487_7500.jpg\n",
      "iou: 0.2703099750257088 score: 0.07639460265636444\n",
      "iou: 0.48665620094191525 score: 0.1952374428510666\n",
      "iou: 0.24436090225563908 score: 0.22150681912899017\n",
      "iou: 0.3931020591278234 score: 0.27161654829978943\n",
      "precision: [0.75       0.66666667 0.5        1.         1.        ]\n",
      "recall: [1.         0.66666667 0.33333333 0.33333333 0.        ]\n",
      "threshold: [0.0763946  0.19523744 0.22150682 0.27161655]\n",
      "13 /home/tomita/keras-yolo3/use_images/n02231487/n02231487_10506.jpg\n",
      "iou: 0.5097699810259312 score: 0.15577583014965057\n",
      "iou: 0.28875559007042817 score: 0.7432572841644287\n",
      "precision: [1. 1. 1.]\n",
      "recall: [1.  0.5 0. ]\n",
      "threshold: [0.15577583 0.74325728]\n",
      "14 /home/tomita/keras-yolo3/use_images/n02231487/n02231487_8472.jpg\n",
      "iou: 0.37863800102921835 score: 0.06375403702259064\n",
      "iou: 0.5185452099548381 score: 0.07138136029243469\n",
      "iou: 0.21451772348538342 score: 0.0771503746509552\n",
      "iou: 0.22425423474741418 score: 0.0783538669347763\n",
      "iou: 0.18775179491796268 score: 0.1586540788412094\n",
      "iou: 0.6807011461434923 score: 0.21062029898166656\n",
      "iou: 0.61318858061922 score: 0.3839077055454254\n",
      "precision: [0.57142857 0.5        0.4        0.5        0.66666667 1.\n",
      " 1.         1.        ]\n",
      "recall: [1.   0.75 0.5  0.5  0.5  0.5  0.25 0.  ]\n",
      "threshold: [0.06375404 0.07138136 0.07715037 0.07835387 0.15865408 0.2106203\n",
      " 0.38390771]\n",
      "15 /home/tomita/keras-yolo3/use_images/n02231487/n02231487_9684.jpg\n",
      "iou: 0.2455139298130739 score: 0.09760500490665436\n",
      "iou: 0.4928306309826138 score: 0.3699379861354828\n",
      "precision: [1. 1.]\n",
      "recall: [1. 0.]\n",
      "threshold: [0.36993799]\n",
      "16 /home/tomita/keras-yolo3/use_images/n02231487/n02231487_473.jpg\n",
      "iou: 0.4151499041676576 score: 0.1258712261915207\n",
      "iou: 0.30098936786190805 score: 0.4782029390335083\n",
      "iou: 0.5282730281931286 score: 0.6222140789031982\n",
      "precision: [1. 1. 1. 1.]\n",
      "recall: [1.         0.66666667 0.33333333 0.        ]\n",
      "threshold: [0.12587123 0.47820294 0.62221408]\n",
      "17 /home/tomita/keras-yolo3/use_images/n02231487/n02231487_12685.jpg\n",
      "iou: 0.14037139932738704 score: 0.07513013482093811\n",
      "iou: 0.33648790746582546 score: 0.1047305017709732\n",
      "iou: 0.3264706547040611 score: 0.5063470005989075\n",
      "precision: [1. 1. 1.]\n",
      "recall: [1.  0.5 0. ]\n",
      "threshold: [0.1047305 0.506347 ]\n",
      "18 /home/tomita/keras-yolo3/use_images/n02231487/n02231487_6008.jpg\n",
      "iou: 0.19672231301452506 score: 0.09291955083608627\n",
      "iou: 0.26877918559875263 score: 0.1287863701581955\n",
      "iou: 0.028523087979876623 score: 0.278709352016449\n",
      "precision: [0.5 0.  1. ]\n",
      "recall: [1. 0. 0.]\n",
      "threshold: [0.12878637 0.27870935]\n",
      "19 /home/tomita/keras-yolo3/use_images/n02231487/n02231487_12911.jpg\n",
      "iou: 0.32669983416252074 score: 0.15582726895809174\n",
      "iou: 0.4291434156183991 score: 0.3470848798751831\n",
      "precision: [1. 1. 1.]\n",
      "recall: [1.  0.5 0. ]\n",
      "threshold: [0.15582727 0.34708488]\n",
      "20 /home/tomita/keras-yolo3/use_images/n02231487/n02231487_2106.jpg\n",
      "iou: 0.4067186860354046 score: 0.07565051317214966\n",
      "iou: 0.3036254150765723 score: 0.13543036580085754\n",
      "precision: [1. 1. 1.]\n",
      "recall: [1.  0.5 0. ]\n",
      "threshold: [0.07565051 0.13543037]\n",
      "21 /home/tomita/keras-yolo3/use_images/n02231487/n02231487_2322.jpg\n",
      "iou: 0.49111044469197157 score: 0.06591985374689102\n",
      "iou: 0.22939640162507255 score: 0.1805739849805832\n",
      "precision: [0.5 0.  1. ]\n",
      "recall: [1. 0. 0.]\n",
      "threshold: [0.06591985 0.18057398]\n",
      "22 /home/tomita/keras-yolo3/use_images/n02231487/n02231487_10201.jpg\n",
      "iou: 0.39817490494296576 score: 0.08132752776145935\n",
      "iou: 0.25112019301787386 score: 0.33879518508911133\n",
      "iou: 0.1298847343266798 score: 0.5411825776100159\n",
      "precision: [0.66666667 0.5        0.         1.        ]\n",
      "recall: [1.  0.5 0.  0. ]\n",
      "threshold: [0.08132753 0.33879519 0.54118258]\n",
      "23 /home/tomita/keras-yolo3/use_images/n02231487/n02231487_1858.jpg\n",
      "iou: 0.629501343684682 score: 0.09862999618053436\n",
      "iou: 0.5266203703703703 score: 0.1317155808210373\n",
      "iou: 0.42606451612903223 score: 0.27950721979141235\n",
      "iou: 0.41188149053146 score: 0.5674495100975037\n",
      "precision: [1. 1. 1. 1. 1.]\n",
      "recall: [1.   0.75 0.5  0.25 0.  ]\n",
      "threshold: [0.09863    0.13171558 0.27950722 0.56744951]\n",
      "24 /home/tomita/keras-yolo3/use_images/n02231487/n02231487_5399.jpg\n",
      "iou: 0.20581008924237332 score: 0.05520269274711609\n",
      "iou: 0.6216397055929468 score: 0.1798119843006134\n",
      "iou: 0.5253095258148741 score: 0.27264514565467834\n",
      "precision: [1. 1. 1.]\n",
      "recall: [1.  0.5 0. ]\n",
      "threshold: [0.17981198 0.27264515]\n",
      "25 /home/tomita/keras-yolo3/use_images/n02231487/n02231487_10371.jpg\n",
      "iou: 0.09721289706518657 score: 0.0505448542535305\n",
      "iou: 0.3638841756835693 score: 0.05467794090509415\n",
      "iou: 0.6898121798520205 score: 0.10497846454381943\n",
      "iou: 0.2972481111785143 score: 0.27500975131988525\n",
      "precision: [1. 1. 1. 1.]\n",
      "recall: [1.         0.66666667 0.33333333 0.        ]\n",
      "threshold: [0.05467794 0.10497846 0.27500975]\n",
      "26 /home/tomita/keras-yolo3/use_images/n02231487/n02231487_7896.jpg\n",
      "iou: 0.38286641323034454 score: 0.07007643580436707\n",
      "iou: 0.6448965262029244 score: 0.31785526871681213\n",
      "precision: [1. 1. 1.]\n",
      "recall: [1.  0.5 0. ]\n",
      "threshold: [0.07007644 0.31785527]\n",
      "27 /home/tomita/keras-yolo3/use_images/n02231487/n02231487_8795.jpg\n",
      "iou: 0.2452786627880131 score: 0.056896958500146866\n",
      "iou: 0.1235415841148241 score: 0.12923173606395721\n",
      "iou: 0.2958637469586375 score: 0.279830664396286\n",
      "iou: 0.29548791618715026 score: 0.3085023760795593\n",
      "precision: [1. 1. 1.]\n",
      "recall: [1.  0.5 0. ]\n",
      "threshold: [0.27983066 0.30850238]\n",
      "28 /home/tomita/keras-yolo3/use_images/n02231487/n02231487_9915.jpg\n",
      "iou: 0.332367849384504 score: 0.05495865270495415\n",
      "iou: 0.33948924323653856 score: 0.24890665709972382\n",
      "iou: 0.31804171743961007 score: 0.2797324061393738\n",
      "iou: 0.3009118541033435 score: 0.3084501326084137\n",
      "precision: [1. 1. 1. 1. 1.]\n",
      "recall: [1.   0.75 0.5  0.25 0.  ]\n",
      "threshold: [0.05495865 0.24890666 0.27973241 0.30845013]\n",
      "29 /home/tomita/keras-yolo3/use_images/n02231487/n02231487_7272.jpg\n",
      "iou: 0.5605128726459451 score: 0.06147401034832001\n",
      "iou: 0.3467343461593071 score: 0.06241678446531296\n",
      "iou: 0.27586329813304816 score: 0.14300568401813507\n",
      "precision: [1. 1. 1. 1.]\n",
      "recall: [1.         0.66666667 0.33333333 0.        ]\n",
      "threshold: [0.06147401 0.06241678 0.14300568]\n",
      "30 /home/tomita/keras-yolo3/use_images/n02231487/n02231487_4857.jpg\n",
      "iou: 0.14071570473954437 score: 0.05684983730316162\n",
      "iou: 0.3120172444763787 score: 0.22257573902606964\n",
      "iou: 0.29371154014988865 score: 0.24725404381752014\n",
      "iou: 0.6613027174667839 score: 0.25171080231666565\n",
      "precision: [1. 1. 1. 1.]\n",
      "recall: [1.         0.66666667 0.33333333 0.        ]\n",
      "threshold: [0.22257574 0.24725404 0.2517108 ]\n",
      "31 /home/tomita/keras-yolo3/use_images/n02231487/n02231487_10982.jpg\n",
      "iou: 0 score: 0.05900994688272476\n",
      "iou: 0.5560936936936937 score: 0.061401404440402985\n",
      "iou: 0.359947617404016 score: 0.1992734968662262\n",
      "iou: 0.10190528837295007 score: 0.3326701819896698\n",
      "precision: [0.66666667 0.5        0.         1.        ]\n",
      "recall: [1.  0.5 0.  0. ]\n",
      "threshold: [0.0614014  0.1992735  0.33267018]\n",
      "32 /home/tomita/keras-yolo3/use_images/n02231487/n02231487_10352.jpg\n",
      "iou: 0.1018025734551089 score: 0.5551846027374268\n",
      "precision: [0. 1.]\n",
      "recall: [0. 0.]\n",
      "threshold: [0.5551846]\n",
      "33 /home/tomita/keras-yolo3/use_images/n02231487/n02231487_2116.jpg\n",
      "iou: 0.4574804340729771 score: 0.30053961277008057\n",
      "iou: 0.5224360348004972 score: 0.394647479057312\n",
      "precision: [1. 1. 1.]\n"
     ]
    },
    {
     "name": "stdout",
     "output_type": "stream",
     "text": [
      "recall: [1.  0.5 0. ]\n",
      "threshold: [0.30053961 0.39464748]\n",
      "34 /home/tomita/keras-yolo3/use_images/n02231487/n02231487_9254.jpg\n",
      "iou: 0.09017656950672645 score: 0.10791382193565369\n",
      "precision: [0. 1.]\n",
      "recall: [0. 0.]\n",
      "threshold: [0.10791382]\n",
      "35 /home/tomita/keras-yolo3/use_images/n02231487/n02231487_189.jpg\n",
      "iou: 0.5045907191349873 score: 0.05152406170964241\n",
      "iou: 0.22596874200582281 score: 0.11335223913192749\n",
      "iou: 0.3937632950026205 score: 0.3061662018299103\n",
      "iou: 0.3637868426769845 score: 0.6418434381484985\n",
      "iou: 0 score: 0.05152406170964241\n",
      "iou: 0 score: 0.11335223913192749\n",
      "iou: 0.2863468418274588 score: 0.3061662018299103\n",
      "iou: 0.2008554956295332 score: 0.6418434381484985\n",
      "precision: [0.5  0.5  0.75 0.5  1.  ]\n",
      "recall: [1.   0.75 0.75 0.25 0.  ]\n",
      "threshold: [0.05152406 0.11335224 0.3061662  0.64184344]\n",
      "36 /home/tomita/keras-yolo3/use_images/n02231487/n02231487_429.jpg\n",
      "iou: 0.49154239263620336 score: 0.22819313406944275\n",
      "precision: [1. 1.]\n",
      "recall: [1. 0.]\n",
      "threshold: [0.22819313]\n",
      "37 /home/tomita/keras-yolo3/use_images/n02231487/n02231487_1100.jpg\n",
      "iou: 0.21262352566146 score: 0.08893237262964249\n",
      "iou: 0.13795450677860344 score: 0.197714701294899\n",
      "precision: [0. 1.]\n",
      "recall: [0. 0.]\n",
      "threshold: [0.1977147]\n",
      "38 /home/tomita/keras-yolo3/use_images/n02231487/n02231487_3315.jpg\n",
      "iou: 0.29218528235344715 score: 0.06653665006160736\n",
      "iou: 0.6607895195432226 score: 0.2634049355983734\n",
      "iou: 0.25997873587774123 score: 0.45254427194595337\n",
      "precision: [1. 1. 1. 1.]\n",
      "recall: [1.         0.66666667 0.33333333 0.        ]\n",
      "threshold: [0.06653665 0.26340494 0.45254427]\n",
      "39 /home/tomita/keras-yolo3/use_images/n02231487/n02231487_2230.jpg\n",
      "iou: 0.13792467661015634 score: 0.339274138212204\n",
      "iou: 0.22282625170514828 score: 0.3539136052131653\n",
      "precision: [0. 1.]\n",
      "recall: [0. 0.]\n",
      "threshold: [0.35391361]\n",
      "40 /home/tomita/keras-yolo3/use_images/n02231487/n02231487_376.jpg\n",
      "iou: 0.08329288418600136 score: 0.052702806890010834\n",
      "iou: 0.36263995285798467 score: 0.05902518332004547\n",
      "iou: 0.20960076045627377 score: 0.4158444106578827\n",
      "precision: [0.5 0.  1. ]\n",
      "recall: [1. 0. 0.]\n",
      "threshold: [0.05902518 0.41584441]\n",
      "41 /home/tomita/keras-yolo3/use_images/n02231487/n02231487_148.jpg\n",
      "iou: 0.480909957166514 score: 0.16514477133750916\n",
      "iou: 0.20462401585555218 score: 0.3361331522464752\n",
      "precision: [0.5 0.  1. ]\n",
      "recall: [1. 0. 0.]\n",
      "threshold: [0.16514477 0.33613315]\n",
      "42 /home/tomita/keras-yolo3/use_images/n02231487/n02231487_9348.jpg\n",
      "iou: 0.19390657105144987 score: 0.05632583424448967\n",
      "iou: 0.05340302914840922 score: 0.05767195671796799\n",
      "iou: 0.18681956742633182 score: 0.0875309482216835\n",
      "iou: 0.058550856012690826 score: 0.30471113324165344\n",
      "precision: [0. 1.]\n",
      "recall: [0. 0.]\n",
      "threshold: [0.30471113]\n",
      "43 /home/tomita/keras-yolo3/use_images/n02231487/n02231487_8677.jpg\n",
      "iou: 0.4722912706536043 score: 0.08272644132375717\n",
      "iou: 0.2034530865404267 score: 0.09550163894891739\n",
      "iou: 0.19382821699983177 score: 0.16433300077915192\n",
      "iou: 0.26635347829323364 score: 0.22365432977676392\n",
      "iou: 0.34336823357512775 score: 0.36700817942619324\n",
      "precision: [0.6        0.5        0.66666667 1.         1.         1.        ]\n",
      "recall: [1.         0.66666667 0.66666667 0.66666667 0.33333333 0.        ]\n",
      "threshold: [0.08272644 0.09550164 0.164333   0.22365433 0.36700818]\n",
      "44 /home/tomita/keras-yolo3/use_images/n02231487/n02231487_3491.jpg\n",
      "iou: 0.3084235542645894 score: 0.0661759078502655\n",
      "iou: 0.34641775703530847 score: 0.6820479035377502\n",
      "precision: [1. 1. 1.]\n",
      "recall: [1.  0.5 0. ]\n",
      "threshold: [0.06617591 0.6820479 ]\n",
      "45 /home/tomita/keras-yolo3/use_images/n02231487/n02231487_6571.jpg\n",
      "iou: 0.21586001075129294 score: 0.052581947296857834\n",
      "iou: 0.38606703470558 score: 0.08813237398862839\n",
      "iou: 0.520848573518654 score: 0.12728162109851837\n",
      "precision: [1. 1. 1.]\n",
      "recall: [1.  0.5 0. ]\n",
      "threshold: [0.08813237 0.12728162]\n",
      "46 /home/tomita/keras-yolo3/use_images/n02231487/n02231487_10499.jpg\n",
      "iou: 0.39227166276346603 score: 0.1004369705915451\n",
      "precision: [1. 1.]\n",
      "recall: [1. 0.]\n",
      "threshold: [0.10043697]\n",
      "47 /home/tomita/keras-yolo3/use_images/n02231487/n02231487_10120.jpg\n",
      "iou: 0.09386641635622305 score: 0.0766267329454422\n",
      "iou: 0.20240330965406494 score: 0.15940971672534943\n",
      "iou: 0.09879623550010944 score: 0.19092966616153717\n",
      "precision: [0. 1.]\n",
      "recall: [0. 0.]\n",
      "threshold: [0.19092967]\n",
      "48 /home/tomita/keras-yolo3/use_images/n02231487/n02231487_59.jpg\n",
      "iou: 0.32945344129554655 score: 0.07483240216970444\n",
      "iou: 0.4007557354925776 score: 0.09327440708875656\n",
      "iou: 0.5280974949221394 score: 0.11763780564069748\n",
      "iou: 0.6690548780487805 score: 0.14148923754692078\n",
      "iou: 0.4563061667183142 score: 0.6003044247627258\n",
      "iou: 0.617165991902834 score: 0.6115494966506958\n",
      "iou: 0.7399826904633809 score: 0.734921932220459\n",
      "precision: [1. 1. 1. 1. 1. 1. 1. 1.]\n",
      "recall: [1.         0.85714286 0.71428571 0.57142857 0.42857143 0.28571429\n",
      " 0.14285714 0.        ]\n",
      "threshold: [0.0748324  0.09327441 0.11763781 0.14148924 0.60030442 0.6115495\n",
      " 0.73492193]\n",
      "49 /home/tomita/keras-yolo3/use_images/n02231487/n02231487_5800.jpg\n",
      "iou: 0.03869639658363271 score: 0.05958746373653412\n",
      "iou: 0.4415797569027611 score: 0.1710856407880783\n",
      "iou: 0.22986926063094015 score: 0.17612019181251526\n",
      "iou: 0.07731196411827822 score: 0.6723701357841492\n",
      "precision: [0.33333333 0.         0.         1.        ]\n",
      "recall: [1. 0. 0. 0.]\n",
      "threshold: [0.17108564 0.17612019 0.67237014]\n",
      "50 /home/tomita/keras-yolo3/use_images/n02231487/n02231487_11404.jpg\n",
      "iou: 0.6524742310377397 score: 0.07181102782487869\n",
      "iou: 0.4437708396483783 score: 0.5713812708854675\n",
      "precision: [1. 1. 1.]\n",
      "recall: [1.  0.5 0. ]\n",
      "threshold: [0.07181103 0.57138127]\n"
     ]
    }
   ],
   "source": [
    "AP = {}\n",
    "for i,target in enumerate(results.keys()):\n",
    "    print(i,target)\n",
    "    partial = results[target]\n",
    "    partial_true = partial[\"ground truth\"]\n",
    "    partial_predict = partial[\"prediction\"]\n",
    "    true_bbox = []\n",
    "    for t in partial_true:\n",
    "        true_bbox.append(\n",
    "            [\n",
    "                t[\"bbox\"][\"left\"],\n",
    "                t[\"bbox\"][\"top\"],\n",
    "                t[\"bbox\"][\"right\"],\n",
    "                t[\"bbox\"][\"bottom\"]\n",
    "            ]\n",
    "        )\n",
    "\n",
    "    predict_bbox = []\n",
    "    predict_score = []\n",
    "    for t in partial_predict:\n",
    "        predict_bbox.append(\n",
    "            [\n",
    "                t[\"bbox\"][\"left\"],\n",
    "                t[\"bbox\"][\"top\"],\n",
    "                t[\"bbox\"][\"right\"],\n",
    "                t[\"bbox\"][\"bottom\"],\n",
    "            ]\n",
    "        )\n",
    "        predict_score.append(t[\"score\"])\n",
    "    \n",
    "    iou = []\n",
    "    score = []\n",
    "    for tb in true_bbox:\n",
    "        for j,pb in enumerate(predict_bbox):\n",
    "            print(\"iou:\",bb_intersection_over_union(tb,pb),\"score:\",predict_score[j])\n",
    "            iou.append(bb_intersection_over_union(tb,pb))\n",
    "            score.append(predict_score[j])\n",
    "    iou = np.array(iou)\n",
    "    iou = np.where(iou > 0.25, True, False)\n",
    "    score = np.array(score)\n",
    "    precision, recall, threshold = precision_recall_curve(iou[::-1],score[::-1])\n",
    "    print(\"precision:\",precision)\n",
    "    print(\"recall:\",recall)\n",
    "    print(\"threshold:\",threshold)\n",
    "    #print(iou,score)\n",
    "    #print(average_precision_score(iou,score))\n",
    "    AP[target] = average_precision_score(iou,score)"
   ]
  },
  {
   "cell_type": "code",
   "execution_count": 24,
   "metadata": {},
   "outputs": [
    {
     "data": {
      "text/plain": [
       "{'/home/tomita/keras-yolo3/use_images/n02231487/n02231487_1002.jpg': 1.0,\n",
       " '/home/tomita/keras-yolo3/use_images/n02231487/n02231487_10120.jpg': -0.0,\n",
       " '/home/tomita/keras-yolo3/use_images/n02231487/n02231487_10201.jpg': 0.5833333333333333,\n",
       " '/home/tomita/keras-yolo3/use_images/n02231487/n02231487_10352.jpg': -0.0,\n",
       " '/home/tomita/keras-yolo3/use_images/n02231487/n02231487_10371.jpg': 1.0,\n",
       " '/home/tomita/keras-yolo3/use_images/n02231487/n02231487_10499.jpg': 1.0,\n",
       " '/home/tomita/keras-yolo3/use_images/n02231487/n02231487_10506.jpg': 1.0,\n",
       " '/home/tomita/keras-yolo3/use_images/n02231487/n02231487_10829.jpg': 1.0,\n",
       " '/home/tomita/keras-yolo3/use_images/n02231487/n02231487_10982.jpg': 0.5833333333333333,\n",
       " '/home/tomita/keras-yolo3/use_images/n02231487/n02231487_1100.jpg': -0.0,\n",
       " '/home/tomita/keras-yolo3/use_images/n02231487/n02231487_11404.jpg': 1.0,\n",
       " '/home/tomita/keras-yolo3/use_images/n02231487/n02231487_12685.jpg': 1.0,\n",
       " '/home/tomita/keras-yolo3/use_images/n02231487/n02231487_12911.jpg': 1.0,\n",
       " '/home/tomita/keras-yolo3/use_images/n02231487/n02231487_143.jpg': -0.0,\n",
       " '/home/tomita/keras-yolo3/use_images/n02231487/n02231487_148.jpg': 0.5,\n",
       " '/home/tomita/keras-yolo3/use_images/n02231487/n02231487_1788.jpg': -0.0,\n",
       " '/home/tomita/keras-yolo3/use_images/n02231487/n02231487_1858.jpg': 1.0,\n",
       " '/home/tomita/keras-yolo3/use_images/n02231487/n02231487_189.jpg': 0.625,\n",
       " '/home/tomita/keras-yolo3/use_images/n02231487/n02231487_2106.jpg': 1.0,\n",
       " '/home/tomita/keras-yolo3/use_images/n02231487/n02231487_2116.jpg': 1.0,\n",
       " '/home/tomita/keras-yolo3/use_images/n02231487/n02231487_2230.jpg': -0.0,\n",
       " '/home/tomita/keras-yolo3/use_images/n02231487/n02231487_2251.jpg': 1.0,\n",
       " '/home/tomita/keras-yolo3/use_images/n02231487/n02231487_2322.jpg': 0.5,\n",
       " '/home/tomita/keras-yolo3/use_images/n02231487/n02231487_3315.jpg': 1.0,\n",
       " '/home/tomita/keras-yolo3/use_images/n02231487/n02231487_3491.jpg': 1.0,\n",
       " '/home/tomita/keras-yolo3/use_images/n02231487/n02231487_376.jpg': 0.5,\n",
       " '/home/tomita/keras-yolo3/use_images/n02231487/n02231487_4030.jpg': 0.9166666666666665,\n",
       " '/home/tomita/keras-yolo3/use_images/n02231487/n02231487_429.jpg': 1.0,\n",
       " '/home/tomita/keras-yolo3/use_images/n02231487/n02231487_4525.jpg': -0.0,\n",
       " '/home/tomita/keras-yolo3/use_images/n02231487/n02231487_473.jpg': 1.0,\n",
       " '/home/tomita/keras-yolo3/use_images/n02231487/n02231487_4857.jpg': 1.0,\n",
       " '/home/tomita/keras-yolo3/use_images/n02231487/n02231487_5399.jpg': 1.0,\n",
       " '/home/tomita/keras-yolo3/use_images/n02231487/n02231487_5700.jpg': 0.9166666666666665,\n",
       " '/home/tomita/keras-yolo3/use_images/n02231487/n02231487_5800.jpg': 0.3333333333333333,\n",
       " '/home/tomita/keras-yolo3/use_images/n02231487/n02231487_59.jpg': 0.9999999999999998,\n",
       " '/home/tomita/keras-yolo3/use_images/n02231487/n02231487_6008.jpg': 0.5,\n",
       " '/home/tomita/keras-yolo3/use_images/n02231487/n02231487_6571.jpg': 1.0,\n",
       " '/home/tomita/keras-yolo3/use_images/n02231487/n02231487_6784.jpg': 1.0,\n",
       " '/home/tomita/keras-yolo3/use_images/n02231487/n02231487_7272.jpg': 1.0,\n",
       " '/home/tomita/keras-yolo3/use_images/n02231487/n02231487_7500.jpg': 0.8055555555555556,\n",
       " '/home/tomita/keras-yolo3/use_images/n02231487/n02231487_7896.jpg': 1.0,\n",
       " '/home/tomita/keras-yolo3/use_images/n02231487/n02231487_8472.jpg': 0.7678571428571428,\n",
       " '/home/tomita/keras-yolo3/use_images/n02231487/n02231487_8677.jpg': 0.8666666666666667,\n",
       " '/home/tomita/keras-yolo3/use_images/n02231487/n02231487_8795.jpg': 1.0,\n",
       " '/home/tomita/keras-yolo3/use_images/n02231487/n02231487_8823.jpg': 1.0,\n",
       " '/home/tomita/keras-yolo3/use_images/n02231487/n02231487_9227.jpg': 1.0,\n",
       " '/home/tomita/keras-yolo3/use_images/n02231487/n02231487_9254.jpg': -0.0,\n",
       " '/home/tomita/keras-yolo3/use_images/n02231487/n02231487_9348.jpg': -0.0,\n",
       " '/home/tomita/keras-yolo3/use_images/n02231487/n02231487_9508.jpg': 1.0,\n",
       " '/home/tomita/keras-yolo3/use_images/n02231487/n02231487_9684.jpg': 1.0,\n",
       " '/home/tomita/keras-yolo3/use_images/n02231487/n02231487_9915.jpg': 1.0}"
      ]
     },
     "execution_count": 24,
     "metadata": {},
     "output_type": "execute_result"
    }
   ],
   "source": [
    "AP"
   ]
  },
  {
   "cell_type": "code",
   "execution_count": 21,
   "metadata": {},
   "outputs": [
    {
     "data": {
      "text/plain": [
       "{'/home/tomita/keras-yolo3/use_images/n02231487/n02231487_1002.jpg': 0.8333333333333333,\n",
       " '/home/tomita/keras-yolo3/use_images/n02231487/n02231487_10120.jpg': -0.0,\n",
       " '/home/tomita/keras-yolo3/use_images/n02231487/n02231487_10201.jpg': 0.8333333333333333,\n",
       " '/home/tomita/keras-yolo3/use_images/n02231487/n02231487_10352.jpg': -0.0,\n",
       " '/home/tomita/keras-yolo3/use_images/n02231487/n02231487_10371.jpg': 0.9166666666666665,\n",
       " '/home/tomita/keras-yolo3/use_images/n02231487/n02231487_10499.jpg': 1.0,\n",
       " '/home/tomita/keras-yolo3/use_images/n02231487/n02231487_10506.jpg': 0.6388888888888888,\n",
       " '/home/tomita/keras-yolo3/use_images/n02231487/n02231487_10829.jpg': 1.0,\n",
       " '/home/tomita/keras-yolo3/use_images/n02231487/n02231487_10982.jpg': -0.0,\n",
       " '/home/tomita/keras-yolo3/use_images/n02231487/n02231487_1100.jpg': -0.0,\n",
       " '/home/tomita/keras-yolo3/use_images/n02231487/n02231487_11404.jpg': 1.0,\n",
       " '/home/tomita/keras-yolo3/use_images/n02231487/n02231487_12685.jpg': 1.0,\n",
       " '/home/tomita/keras-yolo3/use_images/n02231487/n02231487_12911.jpg': 0.3333333333333333,\n",
       " '/home/tomita/keras-yolo3/use_images/n02231487/n02231487_143.jpg': -0.0,\n",
       " '/home/tomita/keras-yolo3/use_images/n02231487/n02231487_148.jpg': 1.0,\n",
       " '/home/tomita/keras-yolo3/use_images/n02231487/n02231487_1788.jpg': -0.0,\n",
       " '/home/tomita/keras-yolo3/use_images/n02231487/n02231487_1858.jpg': 1.0,\n",
       " '/home/tomita/keras-yolo3/use_images/n02231487/n02231487_189.jpg': 0.6666666666666666,\n",
       " '/home/tomita/keras-yolo3/use_images/n02231487/n02231487_2106.jpg': 1.0,\n",
       " '/home/tomita/keras-yolo3/use_images/n02231487/n02231487_2116.jpg': 1.0,\n",
       " '/home/tomita/keras-yolo3/use_images/n02231487/n02231487_2230.jpg': 0.3333333333333333,\n",
       " '/home/tomita/keras-yolo3/use_images/n02231487/n02231487_2251.jpg': 1.0,\n",
       " '/home/tomita/keras-yolo3/use_images/n02231487/n02231487_2322.jpg': 1.0,\n",
       " '/home/tomita/keras-yolo3/use_images/n02231487/n02231487_3315.jpg': 0.8333333333333333,\n",
       " '/home/tomita/keras-yolo3/use_images/n02231487/n02231487_3491.jpg': 0.8055555555555556,\n",
       " '/home/tomita/keras-yolo3/use_images/n02231487/n02231487_376.jpg': 1.0,\n",
       " '/home/tomita/keras-yolo3/use_images/n02231487/n02231487_4030.jpg': 0.6388888888888888,\n",
       " '/home/tomita/keras-yolo3/use_images/n02231487/n02231487_429.jpg': 1.0,\n",
       " '/home/tomita/keras-yolo3/use_images/n02231487/n02231487_4525.jpg': -0.0,\n",
       " '/home/tomita/keras-yolo3/use_images/n02231487/n02231487_473.jpg': 1.0,\n",
       " '/home/tomita/keras-yolo3/use_images/n02231487/n02231487_4857.jpg': -0.0,\n",
       " '/home/tomita/keras-yolo3/use_images/n02231487/n02231487_5399.jpg': 1.0,\n",
       " '/home/tomita/keras-yolo3/use_images/n02231487/n02231487_5700.jpg': 1.0,\n",
       " '/home/tomita/keras-yolo3/use_images/n02231487/n02231487_5800.jpg': 0.8055555555555556,\n",
       " '/home/tomita/keras-yolo3/use_images/n02231487/n02231487_59.jpg': 1.0,\n",
       " '/home/tomita/keras-yolo3/use_images/n02231487/n02231487_6008.jpg': -0.0,\n",
       " '/home/tomita/keras-yolo3/use_images/n02231487/n02231487_6571.jpg': 1.0,\n",
       " '/home/tomita/keras-yolo3/use_images/n02231487/n02231487_6784.jpg': 1.0,\n",
       " '/home/tomita/keras-yolo3/use_images/n02231487/n02231487_7272.jpg': 1.0,\n",
       " '/home/tomita/keras-yolo3/use_images/n02231487/n02231487_7500.jpg': 1.0,\n",
       " '/home/tomita/keras-yolo3/use_images/n02231487/n02231487_7896.jpg': 1.0,\n",
       " '/home/tomita/keras-yolo3/use_images/n02231487/n02231487_8472.jpg': 1.0,\n",
       " '/home/tomita/keras-yolo3/use_images/n02231487/n02231487_8677.jpg': 1.0,\n",
       " '/home/tomita/keras-yolo3/use_images/n02231487/n02231487_8795.jpg': 0.3333333333333333,\n",
       " '/home/tomita/keras-yolo3/use_images/n02231487/n02231487_8823.jpg': 1.0,\n",
       " '/home/tomita/keras-yolo3/use_images/n02231487/n02231487_9227.jpg': 0.9166666666666665,\n",
       " '/home/tomita/keras-yolo3/use_images/n02231487/n02231487_9254.jpg': -0.0,\n",
       " '/home/tomita/keras-yolo3/use_images/n02231487/n02231487_9348.jpg': 0.25,\n",
       " '/home/tomita/keras-yolo3/use_images/n02231487/n02231487_9508.jpg': 1.0,\n",
       " '/home/tomita/keras-yolo3/use_images/n02231487/n02231487_9684.jpg': 1.0,\n",
       " '/home/tomita/keras-yolo3/use_images/n02231487/n02231487_9915.jpg': 1.0}"
      ]
     },
     "execution_count": 21,
     "metadata": {},
     "output_type": "execute_result"
    }
   ],
   "source": [
    "AP"
   ]
  },
  {
   "cell_type": "code",
   "execution_count": 15,
   "metadata": {},
   "outputs": [
    {
     "data": {
      "text/plain": [
       "(array([0.66666667, 0.5       , 1.        , 1.        ]),\n",
       " array([1. , 0.5, 0.5, 0. ]),\n",
       " array([0.35, 0.4 , 0.8 ]))"
      ]
     },
     "execution_count": 15,
     "metadata": {},
     "output_type": "execute_result"
    }
   ],
   "source": [
    "precision_recall_curve(np.array([0, 0, 1, 1]),np.array([0.1, 0.4, 0.35, 0.8]))"
   ]
  },
  {
   "cell_type": "code",
   "execution_count": 8,
   "metadata": {},
   "outputs": [
    {
     "data": {
      "text/plain": [
       "array([1., 1.])"
      ]
     },
     "execution_count": 8,
     "metadata": {},
     "output_type": "execute_result"
    }
   ],
   "source": [
    "precision"
   ]
  },
  {
   "cell_type": "code",
   "execution_count": 9,
   "metadata": {},
   "outputs": [
    {
     "data": {
      "text/plain": [
       "array([1., 0.])"
      ]
     },
     "execution_count": 9,
     "metadata": {},
     "output_type": "execute_result"
    }
   ],
   "source": [
    "recall"
   ]
  },
  {
   "cell_type": "code",
   "execution_count": 10,
   "metadata": {},
   "outputs": [
    {
     "data": {
      "text/plain": [
       "array([0.33304778])"
      ]
     },
     "execution_count": 10,
     "metadata": {},
     "output_type": "execute_result"
    }
   ],
   "source": [
    "threshold"
   ]
  },
  {
   "cell_type": "code",
   "execution_count": null,
   "metadata": {},
   "outputs": [],
   "source": []
  },
  {
   "cell_type": "code",
   "execution_count": 17,
   "metadata": {},
   "outputs": [
    {
     "data": {
      "text/plain": [
       "{'/home/tomita/keras-yolo3/use_images/n02231487/n02231487_1002.jpg': 1.0,\n",
       " '/home/tomita/keras-yolo3/use_images/n02231487/n02231487_10120.jpg': 1.0,\n",
       " '/home/tomita/keras-yolo3/use_images/n02231487/n02231487_10201.jpg': 1.0,\n",
       " '/home/tomita/keras-yolo3/use_images/n02231487/n02231487_10352.jpg': 1.0,\n",
       " '/home/tomita/keras-yolo3/use_images/n02231487/n02231487_10371.jpg': 1.0,\n",
       " '/home/tomita/keras-yolo3/use_images/n02231487/n02231487_10499.jpg': 1.0,\n",
       " '/home/tomita/keras-yolo3/use_images/n02231487/n02231487_10506.jpg': 1.0,\n",
       " '/home/tomita/keras-yolo3/use_images/n02231487/n02231487_10829.jpg': 1.0,\n",
       " '/home/tomita/keras-yolo3/use_images/n02231487/n02231487_10982.jpg': 1.0,\n",
       " '/home/tomita/keras-yolo3/use_images/n02231487/n02231487_1100.jpg': 1.0,\n",
       " '/home/tomita/keras-yolo3/use_images/n02231487/n02231487_11404.jpg': 1.0,\n",
       " '/home/tomita/keras-yolo3/use_images/n02231487/n02231487_12685.jpg': 1.0,\n",
       " '/home/tomita/keras-yolo3/use_images/n02231487/n02231487_12911.jpg': 1.0,\n",
       " '/home/tomita/keras-yolo3/use_images/n02231487/n02231487_143.jpg': 0.8333333333333333,\n",
       " '/home/tomita/keras-yolo3/use_images/n02231487/n02231487_148.jpg': 1.0,\n",
       " '/home/tomita/keras-yolo3/use_images/n02231487/n02231487_1788.jpg': 1.0,\n",
       " '/home/tomita/keras-yolo3/use_images/n02231487/n02231487_1858.jpg': 1.0,\n",
       " '/home/tomita/keras-yolo3/use_images/n02231487/n02231487_189.jpg': 1.0,\n",
       " '/home/tomita/keras-yolo3/use_images/n02231487/n02231487_2106.jpg': 1.0,\n",
       " '/home/tomita/keras-yolo3/use_images/n02231487/n02231487_2116.jpg': 1.0,\n",
       " '/home/tomita/keras-yolo3/use_images/n02231487/n02231487_2230.jpg': 1.0,\n",
       " '/home/tomita/keras-yolo3/use_images/n02231487/n02231487_2251.jpg': 1.0,\n",
       " '/home/tomita/keras-yolo3/use_images/n02231487/n02231487_2322.jpg': 1.0,\n",
       " '/home/tomita/keras-yolo3/use_images/n02231487/n02231487_3315.jpg': 1.0,\n",
       " '/home/tomita/keras-yolo3/use_images/n02231487/n02231487_3491.jpg': 1.0,\n",
       " '/home/tomita/keras-yolo3/use_images/n02231487/n02231487_376.jpg': 1.0,\n",
       " '/home/tomita/keras-yolo3/use_images/n02231487/n02231487_4030.jpg': 1.0,\n",
       " '/home/tomita/keras-yolo3/use_images/n02231487/n02231487_429.jpg': 1.0,\n",
       " '/home/tomita/keras-yolo3/use_images/n02231487/n02231487_4525.jpg': 1.0,\n",
       " '/home/tomita/keras-yolo3/use_images/n02231487/n02231487_473.jpg': 1.0,\n",
       " '/home/tomita/keras-yolo3/use_images/n02231487/n02231487_4857.jpg': 1.0,\n",
       " '/home/tomita/keras-yolo3/use_images/n02231487/n02231487_5399.jpg': 1.0,\n",
       " '/home/tomita/keras-yolo3/use_images/n02231487/n02231487_5700.jpg': 1.0,\n",
       " '/home/tomita/keras-yolo3/use_images/n02231487/n02231487_5800.jpg': 1.0,\n",
       " '/home/tomita/keras-yolo3/use_images/n02231487/n02231487_59.jpg': 1.0,\n",
       " '/home/tomita/keras-yolo3/use_images/n02231487/n02231487_6008.jpg': 1.0,\n",
       " '/home/tomita/keras-yolo3/use_images/n02231487/n02231487_6571.jpg': 1.0,\n",
       " '/home/tomita/keras-yolo3/use_images/n02231487/n02231487_6784.jpg': 1.0,\n",
       " '/home/tomita/keras-yolo3/use_images/n02231487/n02231487_7272.jpg': 1.0,\n",
       " '/home/tomita/keras-yolo3/use_images/n02231487/n02231487_7500.jpg': 1.0,\n",
       " '/home/tomita/keras-yolo3/use_images/n02231487/n02231487_7896.jpg': 1.0,\n",
       " '/home/tomita/keras-yolo3/use_images/n02231487/n02231487_8472.jpg': 1.0,\n",
       " '/home/tomita/keras-yolo3/use_images/n02231487/n02231487_8677.jpg': 1.0,\n",
       " '/home/tomita/keras-yolo3/use_images/n02231487/n02231487_8795.jpg': 1.0,\n",
       " '/home/tomita/keras-yolo3/use_images/n02231487/n02231487_8823.jpg': 1.0,\n",
       " '/home/tomita/keras-yolo3/use_images/n02231487/n02231487_9227.jpg': 1.0,\n",
       " '/home/tomita/keras-yolo3/use_images/n02231487/n02231487_9254.jpg': 1.0,\n",
       " '/home/tomita/keras-yolo3/use_images/n02231487/n02231487_9348.jpg': 0.9999999999999998,\n",
       " '/home/tomita/keras-yolo3/use_images/n02231487/n02231487_9508.jpg': 1.0,\n",
       " '/home/tomita/keras-yolo3/use_images/n02231487/n02231487_9684.jpg': 1.0,\n",
       " '/home/tomita/keras-yolo3/use_images/n02231487/n02231487_9915.jpg': 1.0}"
      ]
     },
     "execution_count": 17,
     "metadata": {},
     "output_type": "execute_result"
    }
   ],
   "source": [
    "AP"
   ]
  },
  {
   "cell_type": "code",
   "execution_count": 112,
   "metadata": {
    "scrolled": true
   },
   "outputs": [
    {
     "data": {
      "text/plain": [
       "array([[0.50459072, 0.22596874, 0.3937633 , 0.36378684, 0.        ,\n",
       "        0.        , 0.28634684, 0.2008555 ],\n",
       "       [0.05152406, 0.11335224, 0.3061662 , 0.64184344, 0.05152406,\n",
       "        0.11335224, 0.3061662 , 0.64184344]])"
      ]
     },
     "execution_count": 112,
     "metadata": {},
     "output_type": "execute_result"
    }
   ],
   "source": [
    "arr"
   ]
  },
  {
   "cell_type": "code",
   "execution_count": 16,
   "metadata": {},
   "outputs": [],
   "source": [
    "arr[0] = np.where(arr[0] > 0.2, True, False)"
   ]
  },
  {
   "cell_type": "code",
   "execution_count": 17,
   "metadata": {},
   "outputs": [
    {
     "data": {
      "text/plain": [
       "array([[1.        , 1.        , 1.        , 1.        , 0.        ,\n",
       "        0.        , 1.        , 1.        ],\n",
       "       [0.05152406, 0.11335224, 0.3061662 , 0.64184344, 0.05152406,\n",
       "        0.11335224, 0.3061662 , 0.64184344]])"
      ]
     },
     "execution_count": 17,
     "metadata": {},
     "output_type": "execute_result"
    }
   ],
   "source": [
    "arr"
   ]
  },
  {
   "cell_type": "code",
   "execution_count": 120,
   "metadata": {},
   "outputs": [
    {
     "data": {
      "text/plain": [
       "array([1., 1., 0., 0., 1., 1., 1., 1.])"
      ]
     },
     "execution_count": 120,
     "metadata": {},
     "output_type": "execute_result"
    }
   ],
   "source": [
    "arr[0][::-1]"
   ]
  },
  {
   "cell_type": "code",
   "execution_count": 115,
   "metadata": {},
   "outputs": [
    {
     "name": "stdout",
     "output_type": "stream",
     "text": [
      "0.05152406170964241\n",
      "0.11335223913192749\n",
      "0.3061662018299103\n",
      "0.6418434381484985\n",
      "0.0\n",
      "0.0\n",
      "0.3061662018299103\n",
      "0.6418434381484985\n"
     ]
    }
   ],
   "source": [
    "AP = 0\n",
    "for a in arr.T:\n",
    "    print(a[0] * a[1])\n",
    "    AP += a[0] * a[1]"
   ]
  },
  {
   "cell_type": "code",
   "execution_count": 116,
   "metadata": {},
   "outputs": [
    {
     "data": {
      "text/plain": [
       "2.0608955807983875"
      ]
     },
     "execution_count": 116,
     "metadata": {},
     "output_type": "execute_result"
    }
   ],
   "source": [
    "AP"
   ]
  },
  {
   "cell_type": "code",
   "execution_count": 117,
   "metadata": {},
   "outputs": [
    {
     "data": {
      "text/plain": [
       "0.25761194759979844"
      ]
     },
     "execution_count": 117,
     "metadata": {},
     "output_type": "execute_result"
    }
   ],
   "source": [
    "AP/len(arr.T)"
   ]
  },
  {
   "cell_type": "code",
   "execution_count": 20,
   "metadata": {},
   "outputs": [
    {
     "data": {
      "text/plain": [
       "[0.9242424242424243]"
      ]
     },
     "execution_count": 20,
     "metadata": {},
     "output_type": "execute_result"
    }
   ],
   "source": [
    "mean_average_precision([arr[0]],[arr[1]])"
   ]
  },
  {
   "cell_type": "code",
   "execution_count": 37,
   "metadata": {},
   "outputs": [
    {
     "data": {
      "text/plain": [
       "0.9305555555555555"
      ]
     },
     "execution_count": 37,
     "metadata": {},
     "output_type": "execute_result"
    }
   ],
   "source": [
    "label_ranking_average_precision_score([arr[0][::-1]],[arr[1][::-1]])"
   ]
  },
  {
   "cell_type": "code",
   "execution_count": 38,
   "metadata": {},
   "outputs": [
    {
     "data": {
      "text/plain": [
       "array([[1.        , 1.        , 1.        , 1.        , 0.        ,\n",
       "        0.        , 1.        , 1.        ],\n",
       "       [0.05152406, 0.11335224, 0.3061662 , 0.64184344, 0.05152406,\n",
       "        0.11335224, 0.3061662 , 0.64184344]])"
      ]
     },
     "execution_count": 38,
     "metadata": {},
     "output_type": "execute_result"
    }
   ],
   "source": [
    "arr"
   ]
  },
  {
   "cell_type": "code",
   "execution_count": 28,
   "metadata": {},
   "outputs": [
    {
     "data": {
      "text/plain": [
       "0.9305555555555556"
      ]
     },
     "execution_count": 28,
     "metadata": {},
     "output_type": "execute_result"
    }
   ],
   "source": [
    "average_precision_score(arr[0][::-1],arr[1][::-1])"
   ]
  },
  {
   "cell_type": "code",
   "execution_count": 25,
   "metadata": {},
   "outputs": [
    {
     "data": {
      "text/plain": [
       "0.8333333333333333"
      ]
     },
     "execution_count": 25,
     "metadata": {},
     "output_type": "execute_result"
    }
   ],
   "source": [
    "average_precision_score(np.array([0, 0, 1, 1]),np.array([0.1, 0.4, 0.35, 0.8]))"
   ]
  },
  {
   "cell_type": "code",
   "execution_count": 26,
   "metadata": {},
   "outputs": [
    {
     "data": {
      "text/plain": [
       "array([0.8 , 0.35, 0.4 , 0.1 ])"
      ]
     },
     "execution_count": 26,
     "metadata": {},
     "output_type": "execute_result"
    }
   ],
   "source": [
    "np.array([0.1, 0.4, 0.35, 0.8])[::-1]"
   ]
  },
  {
   "cell_type": "code",
   "execution_count": null,
   "metadata": {},
   "outputs": [],
   "source": []
  }
 ],
 "metadata": {
  "kernelspec": {
   "display_name": "Python 3",
   "language": "python",
   "name": "python3"
  },
  "language_info": {
   "codemirror_mode": {
    "name": "ipython",
    "version": 3
   },
   "file_extension": ".py",
   "mimetype": "text/x-python",
   "name": "python",
   "nbconvert_exporter": "python",
   "pygments_lexer": "ipython3",
   "version": "3.6.9"
  }
 },
 "nbformat": 4,
 "nbformat_minor": 2
}
